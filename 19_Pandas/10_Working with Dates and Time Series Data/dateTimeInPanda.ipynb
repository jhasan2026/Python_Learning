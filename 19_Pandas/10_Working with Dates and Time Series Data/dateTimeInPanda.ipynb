{
 "cells": [
  {
   "cell_type": "code",
   "id": "initial_id",
   "metadata": {
    "collapsed": true,
    "ExecuteTime": {
     "end_time": "2024-04-23T14:21:42.170369Z",
     "start_time": "2024-04-23T14:21:42.167240Z"
    }
   },
   "source": "import pandas as pd",
   "outputs": [],
   "execution_count": 19
  },
  {
   "metadata": {
    "ExecuteTime": {
     "end_time": "2024-04-23T14:21:43.204773Z",
     "start_time": "2024-04-23T14:21:43.029842Z"
    }
   },
   "cell_type": "code",
   "source": [
    "d_parser = lambda x: pd.to_datetime(x, format='%Y-%m-%d %I-%M-%p')\n",
    "df = pd.read_csv('ETH_1h.csv', parse_dates=['Date'], date_parser=d_parser)"
   ],
   "id": "7ddb59690ba44ef7",
   "outputs": [
    {
     "name": "stderr",
     "output_type": "stream",
     "text": [
      "C:\\Users\\HP TECHNOLOGY\\AppData\\Local\\Temp\\ipykernel_21124\\1295811206.py:2: FutureWarning: The argument 'date_parser' is deprecated and will be removed in a future version. Please use 'date_format' instead, or read your data in as 'object' dtype and then call 'to_datetime'.\n",
      "  df = pd.read_csv('ETH_1h.csv', parse_dates=['Date'], date_parser=d_parser)\n"
     ]
    },
    {
     "ename": "ValueError",
     "evalue": "time data \"2020-03-13 08-PM\" doesn't match format \"%Y-%m-%d %I-%M-%p\", at position 0. You might want to try:\n    - passing `format` if your strings have a consistent format;\n    - passing `format='ISO8601'` if your strings are all ISO8601 but not necessarily in exactly the same format;\n    - passing `format='mixed'`, and the format will be inferred for each element individually. You might want to use `dayfirst` alongside this.",
     "output_type": "error",
     "traceback": [
      "\u001B[1;31m---------------------------------------------------------------------------\u001B[0m",
      "\u001B[1;31mValueError\u001B[0m                                Traceback (most recent call last)",
      "File \u001B[1;32m~\\anaconda3\\Lib\\site-packages\\pandas\\io\\parsers\\base_parser.py:1176\u001B[0m, in \u001B[0;36m_make_date_converter.<locals>.converter\u001B[1;34m(col, *date_cols)\u001B[0m\n\u001B[0;32m   1169\u001B[0m     warnings\u001B[38;5;241m.\u001B[39mfilterwarnings(\n\u001B[0;32m   1170\u001B[0m         \u001B[38;5;124m\"\u001B[39m\u001B[38;5;124mignore\u001B[39m\u001B[38;5;124m\"\u001B[39m,\n\u001B[0;32m   1171\u001B[0m         \u001B[38;5;124m\"\u001B[39m\u001B[38;5;124m.*parsing datetimes with mixed time zones \u001B[39m\u001B[38;5;124m\"\u001B[39m\n\u001B[0;32m   1172\u001B[0m         \u001B[38;5;124m\"\u001B[39m\u001B[38;5;124mwill raise an error\u001B[39m\u001B[38;5;124m\"\u001B[39m,\n\u001B[0;32m   1173\u001B[0m         category\u001B[38;5;241m=\u001B[39m\u001B[38;5;167;01mFutureWarning\u001B[39;00m,\n\u001B[0;32m   1174\u001B[0m     )\n\u001B[0;32m   1175\u001B[0m     result \u001B[38;5;241m=\u001B[39m tools\u001B[38;5;241m.\u001B[39mto_datetime(\n\u001B[1;32m-> 1176\u001B[0m         date_parser(\n\u001B[0;32m   1177\u001B[0m             \u001B[38;5;241m*\u001B[39m(unpack_if_single_element(arg) \u001B[38;5;28;01mfor\u001B[39;00m arg \u001B[38;5;129;01min\u001B[39;00m date_cols)\n\u001B[0;32m   1178\u001B[0m         ),\n\u001B[0;32m   1179\u001B[0m         errors\u001B[38;5;241m=\u001B[39m\u001B[38;5;124m\"\u001B[39m\u001B[38;5;124mignore\u001B[39m\u001B[38;5;124m\"\u001B[39m,\n\u001B[0;32m   1180\u001B[0m         cache\u001B[38;5;241m=\u001B[39mcache_dates,\n\u001B[0;32m   1181\u001B[0m     )\n\u001B[0;32m   1182\u001B[0m \u001B[38;5;28;01mif\u001B[39;00m \u001B[38;5;28misinstance\u001B[39m(result, datetime\u001B[38;5;241m.\u001B[39mdatetime):\n",
      "Cell \u001B[1;32mIn[20], line 1\u001B[0m, in \u001B[0;36m<lambda>\u001B[1;34m(x)\u001B[0m\n\u001B[1;32m----> 1\u001B[0m d_parser \u001B[38;5;241m=\u001B[39m \u001B[38;5;28;01mlambda\u001B[39;00m x: pd\u001B[38;5;241m.\u001B[39mto_datetime(x, \u001B[38;5;28mformat\u001B[39m\u001B[38;5;241m=\u001B[39m\u001B[38;5;124m'\u001B[39m\u001B[38;5;124m%\u001B[39m\u001B[38;5;124mY-\u001B[39m\u001B[38;5;124m%\u001B[39m\u001B[38;5;124mm-\u001B[39m\u001B[38;5;132;01m%d\u001B[39;00m\u001B[38;5;124m \u001B[39m\u001B[38;5;124m%\u001B[39m\u001B[38;5;124mI-\u001B[39m\u001B[38;5;124m%\u001B[39m\u001B[38;5;124mM-\u001B[39m\u001B[38;5;124m%\u001B[39m\u001B[38;5;124mp\u001B[39m\u001B[38;5;124m'\u001B[39m)\n\u001B[0;32m      2\u001B[0m df \u001B[38;5;241m=\u001B[39m pd\u001B[38;5;241m.\u001B[39mread_csv(\u001B[38;5;124m'\u001B[39m\u001B[38;5;124mETH_1h.csv\u001B[39m\u001B[38;5;124m'\u001B[39m, parse_dates\u001B[38;5;241m=\u001B[39m[\u001B[38;5;124m'\u001B[39m\u001B[38;5;124mDate\u001B[39m\u001B[38;5;124m'\u001B[39m], date_parser\u001B[38;5;241m=\u001B[39md_parser)\n",
      "File \u001B[1;32m~\\anaconda3\\Lib\\site-packages\\pandas\\core\\tools\\datetimes.py:1144\u001B[0m, in \u001B[0;36mto_datetime\u001B[1;34m(arg, errors, dayfirst, yearfirst, utc, format, exact, unit, infer_datetime_format, origin, cache)\u001B[0m\n\u001B[0;32m   1143\u001B[0m     \u001B[38;5;28;01melse\u001B[39;00m:\n\u001B[1;32m-> 1144\u001B[0m         result \u001B[38;5;241m=\u001B[39m convert_listlike(argc, \u001B[38;5;28mformat\u001B[39m)\n\u001B[0;32m   1145\u001B[0m \u001B[38;5;28;01melse\u001B[39;00m:\n",
      "File \u001B[1;32m~\\anaconda3\\Lib\\site-packages\\pandas\\core\\tools\\datetimes.py:488\u001B[0m, in \u001B[0;36m_convert_listlike_datetimes\u001B[1;34m(arg, format, name, utc, unit, errors, dayfirst, yearfirst, exact)\u001B[0m\n\u001B[0;32m    487\u001B[0m \u001B[38;5;28;01mif\u001B[39;00m \u001B[38;5;28mformat\u001B[39m \u001B[38;5;129;01mis\u001B[39;00m \u001B[38;5;129;01mnot\u001B[39;00m \u001B[38;5;28;01mNone\u001B[39;00m \u001B[38;5;129;01mand\u001B[39;00m \u001B[38;5;28mformat\u001B[39m \u001B[38;5;241m!=\u001B[39m \u001B[38;5;124m\"\u001B[39m\u001B[38;5;124mmixed\u001B[39m\u001B[38;5;124m\"\u001B[39m:\n\u001B[1;32m--> 488\u001B[0m     \u001B[38;5;28;01mreturn\u001B[39;00m _array_strptime_with_fallback(arg, name, utc, \u001B[38;5;28mformat\u001B[39m, exact, errors)\n\u001B[0;32m    490\u001B[0m result, tz_parsed \u001B[38;5;241m=\u001B[39m objects_to_datetime64ns(\n\u001B[0;32m    491\u001B[0m     arg,\n\u001B[0;32m    492\u001B[0m     dayfirst\u001B[38;5;241m=\u001B[39mdayfirst,\n\u001B[1;32m   (...)\u001B[0m\n\u001B[0;32m    496\u001B[0m     allow_object\u001B[38;5;241m=\u001B[39m\u001B[38;5;28;01mTrue\u001B[39;00m,\n\u001B[0;32m    497\u001B[0m )\n",
      "File \u001B[1;32m~\\anaconda3\\Lib\\site-packages\\pandas\\core\\tools\\datetimes.py:519\u001B[0m, in \u001B[0;36m_array_strptime_with_fallback\u001B[1;34m(arg, name, utc, fmt, exact, errors)\u001B[0m\n\u001B[0;32m    516\u001B[0m \u001B[38;5;250m\u001B[39m\u001B[38;5;124;03m\"\"\"\u001B[39;00m\n\u001B[0;32m    517\u001B[0m \u001B[38;5;124;03mCall array_strptime, with fallback behavior depending on 'errors'.\u001B[39;00m\n\u001B[0;32m    518\u001B[0m \u001B[38;5;124;03m\"\"\"\u001B[39;00m\n\u001B[1;32m--> 519\u001B[0m result, timezones \u001B[38;5;241m=\u001B[39m array_strptime(arg, fmt, exact\u001B[38;5;241m=\u001B[39mexact, errors\u001B[38;5;241m=\u001B[39merrors, utc\u001B[38;5;241m=\u001B[39mutc)\n\u001B[0;32m    520\u001B[0m \u001B[38;5;28;01mif\u001B[39;00m \u001B[38;5;28many\u001B[39m(tz \u001B[38;5;129;01mis\u001B[39;00m \u001B[38;5;129;01mnot\u001B[39;00m \u001B[38;5;28;01mNone\u001B[39;00m \u001B[38;5;28;01mfor\u001B[39;00m tz \u001B[38;5;129;01min\u001B[39;00m timezones):\n",
      "File \u001B[1;32mstrptime.pyx:534\u001B[0m, in \u001B[0;36mpandas._libs.tslibs.strptime.array_strptime\u001B[1;34m()\u001B[0m\n",
      "File \u001B[1;32mstrptime.pyx:355\u001B[0m, in \u001B[0;36mpandas._libs.tslibs.strptime.array_strptime\u001B[1;34m()\u001B[0m\n",
      "\u001B[1;31mValueError\u001B[0m: time data \"2020-03-13 08-PM\" doesn't match format \"%Y-%m-%d %I-%M-%p\", at position 0. You might want to try:\n    - passing `format` if your strings have a consistent format;\n    - passing `format='ISO8601'` if your strings are all ISO8601 but not necessarily in exactly the same format;\n    - passing `format='mixed'`, and the format will be inferred for each element individually. You might want to use `dayfirst` alongside this.",
      "\nDuring handling of the above exception, another exception occurred:\n",
      "\u001B[1;31mValueError\u001B[0m                                Traceback (most recent call last)",
      "Cell \u001B[1;32mIn[20], line 2\u001B[0m\n\u001B[0;32m      1\u001B[0m d_parser \u001B[38;5;241m=\u001B[39m \u001B[38;5;28;01mlambda\u001B[39;00m x: pd\u001B[38;5;241m.\u001B[39mto_datetime(x, \u001B[38;5;28mformat\u001B[39m\u001B[38;5;241m=\u001B[39m\u001B[38;5;124m'\u001B[39m\u001B[38;5;124m%\u001B[39m\u001B[38;5;124mY-\u001B[39m\u001B[38;5;124m%\u001B[39m\u001B[38;5;124mm-\u001B[39m\u001B[38;5;132;01m%d\u001B[39;00m\u001B[38;5;124m \u001B[39m\u001B[38;5;124m%\u001B[39m\u001B[38;5;124mI-\u001B[39m\u001B[38;5;124m%\u001B[39m\u001B[38;5;124mM-\u001B[39m\u001B[38;5;124m%\u001B[39m\u001B[38;5;124mp\u001B[39m\u001B[38;5;124m'\u001B[39m)\n\u001B[1;32m----> 2\u001B[0m df \u001B[38;5;241m=\u001B[39m pd\u001B[38;5;241m.\u001B[39mread_csv(\u001B[38;5;124m'\u001B[39m\u001B[38;5;124mETH_1h.csv\u001B[39m\u001B[38;5;124m'\u001B[39m, parse_dates\u001B[38;5;241m=\u001B[39m[\u001B[38;5;124m'\u001B[39m\u001B[38;5;124mDate\u001B[39m\u001B[38;5;124m'\u001B[39m], date_parser\u001B[38;5;241m=\u001B[39md_parser)\n",
      "File \u001B[1;32m~\\anaconda3\\Lib\\site-packages\\pandas\\io\\parsers\\readers.py:948\u001B[0m, in \u001B[0;36mread_csv\u001B[1;34m(filepath_or_buffer, sep, delimiter, header, names, index_col, usecols, dtype, engine, converters, true_values, false_values, skipinitialspace, skiprows, skipfooter, nrows, na_values, keep_default_na, na_filter, verbose, skip_blank_lines, parse_dates, infer_datetime_format, keep_date_col, date_parser, date_format, dayfirst, cache_dates, iterator, chunksize, compression, thousands, decimal, lineterminator, quotechar, quoting, doublequote, escapechar, comment, encoding, encoding_errors, dialect, on_bad_lines, delim_whitespace, low_memory, memory_map, float_precision, storage_options, dtype_backend)\u001B[0m\n\u001B[0;32m    935\u001B[0m kwds_defaults \u001B[38;5;241m=\u001B[39m _refine_defaults_read(\n\u001B[0;32m    936\u001B[0m     dialect,\n\u001B[0;32m    937\u001B[0m     delimiter,\n\u001B[1;32m   (...)\u001B[0m\n\u001B[0;32m    944\u001B[0m     dtype_backend\u001B[38;5;241m=\u001B[39mdtype_backend,\n\u001B[0;32m    945\u001B[0m )\n\u001B[0;32m    946\u001B[0m kwds\u001B[38;5;241m.\u001B[39mupdate(kwds_defaults)\n\u001B[1;32m--> 948\u001B[0m \u001B[38;5;28;01mreturn\u001B[39;00m _read(filepath_or_buffer, kwds)\n",
      "File \u001B[1;32m~\\anaconda3\\Lib\\site-packages\\pandas\\io\\parsers\\readers.py:617\u001B[0m, in \u001B[0;36m_read\u001B[1;34m(filepath_or_buffer, kwds)\u001B[0m\n\u001B[0;32m    614\u001B[0m     \u001B[38;5;28;01mreturn\u001B[39;00m parser\n\u001B[0;32m    616\u001B[0m \u001B[38;5;28;01mwith\u001B[39;00m parser:\n\u001B[1;32m--> 617\u001B[0m     \u001B[38;5;28;01mreturn\u001B[39;00m parser\u001B[38;5;241m.\u001B[39mread(nrows)\n",
      "File \u001B[1;32m~\\anaconda3\\Lib\\site-packages\\pandas\\io\\parsers\\readers.py:1748\u001B[0m, in \u001B[0;36mTextFileReader.read\u001B[1;34m(self, nrows)\u001B[0m\n\u001B[0;32m   1741\u001B[0m nrows \u001B[38;5;241m=\u001B[39m validate_integer(\u001B[38;5;124m\"\u001B[39m\u001B[38;5;124mnrows\u001B[39m\u001B[38;5;124m\"\u001B[39m, nrows)\n\u001B[0;32m   1742\u001B[0m \u001B[38;5;28;01mtry\u001B[39;00m:\n\u001B[0;32m   1743\u001B[0m     \u001B[38;5;66;03m# error: \"ParserBase\" has no attribute \"read\"\u001B[39;00m\n\u001B[0;32m   1744\u001B[0m     (\n\u001B[0;32m   1745\u001B[0m         index,\n\u001B[0;32m   1746\u001B[0m         columns,\n\u001B[0;32m   1747\u001B[0m         col_dict,\n\u001B[1;32m-> 1748\u001B[0m     ) \u001B[38;5;241m=\u001B[39m \u001B[38;5;28mself\u001B[39m\u001B[38;5;241m.\u001B[39m_engine\u001B[38;5;241m.\u001B[39mread(  \u001B[38;5;66;03m# type: ignore[attr-defined]\u001B[39;00m\n\u001B[0;32m   1749\u001B[0m         nrows\n\u001B[0;32m   1750\u001B[0m     )\n\u001B[0;32m   1751\u001B[0m \u001B[38;5;28;01mexcept\u001B[39;00m \u001B[38;5;167;01mException\u001B[39;00m:\n\u001B[0;32m   1752\u001B[0m     \u001B[38;5;28mself\u001B[39m\u001B[38;5;241m.\u001B[39mclose()\n",
      "File \u001B[1;32m~\\anaconda3\\Lib\\site-packages\\pandas\\io\\parsers\\c_parser_wrapper.py:332\u001B[0m, in \u001B[0;36mCParserWrapper.read\u001B[1;34m(self, nrows)\u001B[0m\n\u001B[0;32m    328\u001B[0m         \u001B[38;5;28mself\u001B[39m\u001B[38;5;241m.\u001B[39m_check_data_length(names, alldata)\n\u001B[0;32m    330\u001B[0m     data \u001B[38;5;241m=\u001B[39m {k: v \u001B[38;5;28;01mfor\u001B[39;00m k, (i, v) \u001B[38;5;129;01min\u001B[39;00m \u001B[38;5;28mzip\u001B[39m(names, data_tups)}\n\u001B[1;32m--> 332\u001B[0m     names, date_data \u001B[38;5;241m=\u001B[39m \u001B[38;5;28mself\u001B[39m\u001B[38;5;241m.\u001B[39m_do_date_conversions(names, data)\n\u001B[0;32m    333\u001B[0m     index, column_names \u001B[38;5;241m=\u001B[39m \u001B[38;5;28mself\u001B[39m\u001B[38;5;241m.\u001B[39m_make_index(date_data, alldata, names)\n\u001B[0;32m    335\u001B[0m \u001B[38;5;28;01mreturn\u001B[39;00m index, column_names, date_data\n",
      "File \u001B[1;32m~\\anaconda3\\Lib\\site-packages\\pandas\\io\\parsers\\base_parser.py:870\u001B[0m, in \u001B[0;36mParserBase._do_date_conversions\u001B[1;34m(self, names, data)\u001B[0m\n\u001B[0;32m    861\u001B[0m \u001B[38;5;129m@final\u001B[39m\n\u001B[0;32m    862\u001B[0m \u001B[38;5;28;01mdef\u001B[39;00m \u001B[38;5;21m_do_date_conversions\u001B[39m(\n\u001B[0;32m    863\u001B[0m     \u001B[38;5;28mself\u001B[39m,\n\u001B[1;32m   (...)\u001B[0m\n\u001B[0;32m    866\u001B[0m ) \u001B[38;5;241m-\u001B[39m\u001B[38;5;241m>\u001B[39m \u001B[38;5;28mtuple\u001B[39m[Sequence[Hashable] \u001B[38;5;241m|\u001B[39m Index, Mapping[Hashable, ArrayLike] \u001B[38;5;241m|\u001B[39m DataFrame]:\n\u001B[0;32m    867\u001B[0m     \u001B[38;5;66;03m# returns data, columns\u001B[39;00m\n\u001B[0;32m    869\u001B[0m     \u001B[38;5;28;01mif\u001B[39;00m \u001B[38;5;28mself\u001B[39m\u001B[38;5;241m.\u001B[39mparse_dates \u001B[38;5;129;01mis\u001B[39;00m \u001B[38;5;129;01mnot\u001B[39;00m \u001B[38;5;28;01mNone\u001B[39;00m:\n\u001B[1;32m--> 870\u001B[0m         data, names \u001B[38;5;241m=\u001B[39m _process_date_conversion(\n\u001B[0;32m    871\u001B[0m             data,\n\u001B[0;32m    872\u001B[0m             \u001B[38;5;28mself\u001B[39m\u001B[38;5;241m.\u001B[39m_date_conv,\n\u001B[0;32m    873\u001B[0m             \u001B[38;5;28mself\u001B[39m\u001B[38;5;241m.\u001B[39mparse_dates,\n\u001B[0;32m    874\u001B[0m             \u001B[38;5;28mself\u001B[39m\u001B[38;5;241m.\u001B[39mindex_col,\n\u001B[0;32m    875\u001B[0m             \u001B[38;5;28mself\u001B[39m\u001B[38;5;241m.\u001B[39mindex_names,\n\u001B[0;32m    876\u001B[0m             names,\n\u001B[0;32m    877\u001B[0m             keep_date_col\u001B[38;5;241m=\u001B[39m\u001B[38;5;28mself\u001B[39m\u001B[38;5;241m.\u001B[39mkeep_date_col,\n\u001B[0;32m    878\u001B[0m             dtype_backend\u001B[38;5;241m=\u001B[39m\u001B[38;5;28mself\u001B[39m\u001B[38;5;241m.\u001B[39mdtype_backend,\n\u001B[0;32m    879\u001B[0m         )\n\u001B[0;32m    881\u001B[0m     \u001B[38;5;28;01mreturn\u001B[39;00m names, data\n",
      "File \u001B[1;32m~\\anaconda3\\Lib\\site-packages\\pandas\\io\\parsers\\base_parser.py:1293\u001B[0m, in \u001B[0;36m_process_date_conversion\u001B[1;34m(data_dict, converter, parse_spec, index_col, index_names, columns, keep_date_col, dtype_backend)\u001B[0m\n\u001B[0;32m   1289\u001B[0m             \u001B[38;5;28;01mcontinue\u001B[39;00m\n\u001B[0;32m   1291\u001B[0m     \u001B[38;5;66;03m# Pyarrow engine returns Series which we need to convert to\u001B[39;00m\n\u001B[0;32m   1292\u001B[0m     \u001B[38;5;66;03m# numpy array before converter, its a no-op for other parsers\u001B[39;00m\n\u001B[1;32m-> 1293\u001B[0m     data_dict[colspec] \u001B[38;5;241m=\u001B[39m converter(\n\u001B[0;32m   1294\u001B[0m         np\u001B[38;5;241m.\u001B[39masarray(data_dict[colspec]), col\u001B[38;5;241m=\u001B[39mcolspec\n\u001B[0;32m   1295\u001B[0m     )\n\u001B[0;32m   1296\u001B[0m \u001B[38;5;28;01melse\u001B[39;00m:\n\u001B[0;32m   1297\u001B[0m     new_name, col, old_names \u001B[38;5;241m=\u001B[39m _try_convert_dates(\n\u001B[0;32m   1298\u001B[0m         converter, colspec, data_dict, orig_names\n\u001B[0;32m   1299\u001B[0m     )\n",
      "File \u001B[1;32m~\\anaconda3\\Lib\\site-packages\\pandas\\io\\parsers\\base_parser.py:1194\u001B[0m, in \u001B[0;36m_make_date_converter.<locals>.converter\u001B[1;34m(col, *date_cols)\u001B[0m\n\u001B[0;32m   1186\u001B[0m \u001B[38;5;28;01mwith\u001B[39;00m warnings\u001B[38;5;241m.\u001B[39mcatch_warnings():\n\u001B[0;32m   1187\u001B[0m     warnings\u001B[38;5;241m.\u001B[39mfilterwarnings(\n\u001B[0;32m   1188\u001B[0m         \u001B[38;5;124m\"\u001B[39m\u001B[38;5;124mignore\u001B[39m\u001B[38;5;124m\"\u001B[39m,\n\u001B[0;32m   1189\u001B[0m         \u001B[38;5;124m\"\u001B[39m\u001B[38;5;124m.*parsing datetimes with mixed time zones \u001B[39m\u001B[38;5;124m\"\u001B[39m\n\u001B[0;32m   1190\u001B[0m         \u001B[38;5;124m\"\u001B[39m\u001B[38;5;124mwill raise an error\u001B[39m\u001B[38;5;124m\"\u001B[39m,\n\u001B[0;32m   1191\u001B[0m         category\u001B[38;5;241m=\u001B[39m\u001B[38;5;167;01mFutureWarning\u001B[39;00m,\n\u001B[0;32m   1192\u001B[0m     )\n\u001B[0;32m   1193\u001B[0m     \u001B[38;5;28;01mreturn\u001B[39;00m tools\u001B[38;5;241m.\u001B[39mto_datetime(\n\u001B[1;32m-> 1194\u001B[0m         parsing\u001B[38;5;241m.\u001B[39mtry_parse_dates(\n\u001B[0;32m   1195\u001B[0m             parsing\u001B[38;5;241m.\u001B[39mconcat_date_cols(date_cols),\n\u001B[0;32m   1196\u001B[0m             parser\u001B[38;5;241m=\u001B[39mdate_parser,\n\u001B[0;32m   1197\u001B[0m         ),\n\u001B[0;32m   1198\u001B[0m         errors\u001B[38;5;241m=\u001B[39m\u001B[38;5;124m\"\u001B[39m\u001B[38;5;124mignore\u001B[39m\u001B[38;5;124m\"\u001B[39m,\n\u001B[0;32m   1199\u001B[0m     )\n",
      "File \u001B[1;32mparsing.pyx:764\u001B[0m, in \u001B[0;36mpandas._libs.tslibs.parsing.try_parse_dates\u001B[1;34m()\u001B[0m\n",
      "Cell \u001B[1;32mIn[20], line 1\u001B[0m, in \u001B[0;36m<lambda>\u001B[1;34m(x)\u001B[0m\n\u001B[1;32m----> 1\u001B[0m d_parser \u001B[38;5;241m=\u001B[39m \u001B[38;5;28;01mlambda\u001B[39;00m x: pd\u001B[38;5;241m.\u001B[39mto_datetime(x, \u001B[38;5;28mformat\u001B[39m\u001B[38;5;241m=\u001B[39m\u001B[38;5;124m'\u001B[39m\u001B[38;5;124m%\u001B[39m\u001B[38;5;124mY-\u001B[39m\u001B[38;5;124m%\u001B[39m\u001B[38;5;124mm-\u001B[39m\u001B[38;5;132;01m%d\u001B[39;00m\u001B[38;5;124m \u001B[39m\u001B[38;5;124m%\u001B[39m\u001B[38;5;124mI-\u001B[39m\u001B[38;5;124m%\u001B[39m\u001B[38;5;124mM-\u001B[39m\u001B[38;5;124m%\u001B[39m\u001B[38;5;124mp\u001B[39m\u001B[38;5;124m'\u001B[39m)\n\u001B[0;32m      2\u001B[0m df \u001B[38;5;241m=\u001B[39m pd\u001B[38;5;241m.\u001B[39mread_csv(\u001B[38;5;124m'\u001B[39m\u001B[38;5;124mETH_1h.csv\u001B[39m\u001B[38;5;124m'\u001B[39m, parse_dates\u001B[38;5;241m=\u001B[39m[\u001B[38;5;124m'\u001B[39m\u001B[38;5;124mDate\u001B[39m\u001B[38;5;124m'\u001B[39m], date_parser\u001B[38;5;241m=\u001B[39md_parser)\n",
      "File \u001B[1;32m~\\anaconda3\\Lib\\site-packages\\pandas\\core\\tools\\datetimes.py:1146\u001B[0m, in \u001B[0;36mto_datetime\u001B[1;34m(arg, errors, dayfirst, yearfirst, utc, format, exact, unit, infer_datetime_format, origin, cache)\u001B[0m\n\u001B[0;32m   1144\u001B[0m         result \u001B[38;5;241m=\u001B[39m convert_listlike(argc, \u001B[38;5;28mformat\u001B[39m)\n\u001B[0;32m   1145\u001B[0m \u001B[38;5;28;01melse\u001B[39;00m:\n\u001B[1;32m-> 1146\u001B[0m     result \u001B[38;5;241m=\u001B[39m convert_listlike(np\u001B[38;5;241m.\u001B[39marray([arg]), \u001B[38;5;28mformat\u001B[39m)[\u001B[38;5;241m0\u001B[39m]\n\u001B[0;32m   1147\u001B[0m     \u001B[38;5;28;01mif\u001B[39;00m \u001B[38;5;28misinstance\u001B[39m(arg, \u001B[38;5;28mbool\u001B[39m) \u001B[38;5;129;01mand\u001B[39;00m \u001B[38;5;28misinstance\u001B[39m(result, np\u001B[38;5;241m.\u001B[39mbool_):\n\u001B[0;32m   1148\u001B[0m         result \u001B[38;5;241m=\u001B[39m \u001B[38;5;28mbool\u001B[39m(result)  \u001B[38;5;66;03m# TODO: avoid this kludge.\u001B[39;00m\n",
      "File \u001B[1;32m~\\anaconda3\\Lib\\site-packages\\pandas\\core\\tools\\datetimes.py:488\u001B[0m, in \u001B[0;36m_convert_listlike_datetimes\u001B[1;34m(arg, format, name, utc, unit, errors, dayfirst, yearfirst, exact)\u001B[0m\n\u001B[0;32m    486\u001B[0m \u001B[38;5;66;03m# `format` could be inferred, or user didn't ask for mixed-format parsing.\u001B[39;00m\n\u001B[0;32m    487\u001B[0m \u001B[38;5;28;01mif\u001B[39;00m \u001B[38;5;28mformat\u001B[39m \u001B[38;5;129;01mis\u001B[39;00m \u001B[38;5;129;01mnot\u001B[39;00m \u001B[38;5;28;01mNone\u001B[39;00m \u001B[38;5;129;01mand\u001B[39;00m \u001B[38;5;28mformat\u001B[39m \u001B[38;5;241m!=\u001B[39m \u001B[38;5;124m\"\u001B[39m\u001B[38;5;124mmixed\u001B[39m\u001B[38;5;124m\"\u001B[39m:\n\u001B[1;32m--> 488\u001B[0m     \u001B[38;5;28;01mreturn\u001B[39;00m _array_strptime_with_fallback(arg, name, utc, \u001B[38;5;28mformat\u001B[39m, exact, errors)\n\u001B[0;32m    490\u001B[0m result, tz_parsed \u001B[38;5;241m=\u001B[39m objects_to_datetime64ns(\n\u001B[0;32m    491\u001B[0m     arg,\n\u001B[0;32m    492\u001B[0m     dayfirst\u001B[38;5;241m=\u001B[39mdayfirst,\n\u001B[1;32m   (...)\u001B[0m\n\u001B[0;32m    496\u001B[0m     allow_object\u001B[38;5;241m=\u001B[39m\u001B[38;5;28;01mTrue\u001B[39;00m,\n\u001B[0;32m    497\u001B[0m )\n\u001B[0;32m    499\u001B[0m \u001B[38;5;28;01mif\u001B[39;00m tz_parsed \u001B[38;5;129;01mis\u001B[39;00m \u001B[38;5;129;01mnot\u001B[39;00m \u001B[38;5;28;01mNone\u001B[39;00m:\n\u001B[0;32m    500\u001B[0m     \u001B[38;5;66;03m# We can take a shortcut since the datetime64 numpy array\u001B[39;00m\n\u001B[0;32m    501\u001B[0m     \u001B[38;5;66;03m# is in UTC\u001B[39;00m\n",
      "File \u001B[1;32m~\\anaconda3\\Lib\\site-packages\\pandas\\core\\tools\\datetimes.py:519\u001B[0m, in \u001B[0;36m_array_strptime_with_fallback\u001B[1;34m(arg, name, utc, fmt, exact, errors)\u001B[0m\n\u001B[0;32m    508\u001B[0m \u001B[38;5;28;01mdef\u001B[39;00m \u001B[38;5;21m_array_strptime_with_fallback\u001B[39m(\n\u001B[0;32m    509\u001B[0m     arg,\n\u001B[0;32m    510\u001B[0m     name,\n\u001B[1;32m   (...)\u001B[0m\n\u001B[0;32m    514\u001B[0m     errors: \u001B[38;5;28mstr\u001B[39m,\n\u001B[0;32m    515\u001B[0m ) \u001B[38;5;241m-\u001B[39m\u001B[38;5;241m>\u001B[39m Index:\n\u001B[0;32m    516\u001B[0m \u001B[38;5;250m    \u001B[39m\u001B[38;5;124;03m\"\"\"\u001B[39;00m\n\u001B[0;32m    517\u001B[0m \u001B[38;5;124;03m    Call array_strptime, with fallback behavior depending on 'errors'.\u001B[39;00m\n\u001B[0;32m    518\u001B[0m \u001B[38;5;124;03m    \"\"\"\u001B[39;00m\n\u001B[1;32m--> 519\u001B[0m     result, timezones \u001B[38;5;241m=\u001B[39m array_strptime(arg, fmt, exact\u001B[38;5;241m=\u001B[39mexact, errors\u001B[38;5;241m=\u001B[39merrors, utc\u001B[38;5;241m=\u001B[39mutc)\n\u001B[0;32m    520\u001B[0m     \u001B[38;5;28;01mif\u001B[39;00m \u001B[38;5;28many\u001B[39m(tz \u001B[38;5;129;01mis\u001B[39;00m \u001B[38;5;129;01mnot\u001B[39;00m \u001B[38;5;28;01mNone\u001B[39;00m \u001B[38;5;28;01mfor\u001B[39;00m tz \u001B[38;5;129;01min\u001B[39;00m timezones):\n\u001B[0;32m    521\u001B[0m         \u001B[38;5;28;01mreturn\u001B[39;00m _return_parsed_timezone_results(result, timezones, utc, name)\n",
      "File \u001B[1;32mstrptime.pyx:534\u001B[0m, in \u001B[0;36mpandas._libs.tslibs.strptime.array_strptime\u001B[1;34m()\u001B[0m\n",
      "File \u001B[1;32mstrptime.pyx:355\u001B[0m, in \u001B[0;36mpandas._libs.tslibs.strptime.array_strptime\u001B[1;34m()\u001B[0m\n",
      "\u001B[1;31mValueError\u001B[0m: time data \"2020-03-13 08-PM\" doesn't match format \"%Y-%m-%d %I-%M-%p\", at position 0. You might want to try:\n    - passing `format` if your strings have a consistent format;\n    - passing `format='ISO8601'` if your strings are all ISO8601 but not necessarily in exactly the same format;\n    - passing `format='mixed'`, and the format will be inferred for each element individually. You might want to use `dayfirst` alongside this."
     ]
    }
   ],
   "execution_count": 20
  },
  {
   "metadata": {
    "ExecuteTime": {
     "end_time": "2024-04-23T13:58:19.569631Z",
     "start_time": "2024-04-23T13:58:19.558077Z"
    }
   },
   "cell_type": "code",
   "source": "df.head()",
   "id": "cca7921365b8dc96",
   "outputs": [
    {
     "data": {
      "text/plain": [
       "               Date  Symbol    Open    High     Low   Close      Volume\n",
       "0  2020-03-13 08-PM  ETHUSD  129.94  131.82  126.87  128.71  1940673.93\n",
       "1  2020-03-13 07-PM  ETHUSD  119.51  132.02  117.10  129.94  7579741.09\n",
       "2  2020-03-13 06-PM  ETHUSD  124.47  124.85  115.50  119.51  4898735.81\n",
       "3  2020-03-13 05-PM  ETHUSD  124.08  127.42  121.63  124.47  2753450.92\n",
       "4  2020-03-13 04-PM  ETHUSD  124.85  129.51  120.17  124.08  4461424.71"
      ],
      "text/html": [
       "<div>\n",
       "<style scoped>\n",
       "    .dataframe tbody tr th:only-of-type {\n",
       "        vertical-align: middle;\n",
       "    }\n",
       "\n",
       "    .dataframe tbody tr th {\n",
       "        vertical-align: top;\n",
       "    }\n",
       "\n",
       "    .dataframe thead th {\n",
       "        text-align: right;\n",
       "    }\n",
       "</style>\n",
       "<table border=\"1\" class=\"dataframe\">\n",
       "  <thead>\n",
       "    <tr style=\"text-align: right;\">\n",
       "      <th></th>\n",
       "      <th>Date</th>\n",
       "      <th>Symbol</th>\n",
       "      <th>Open</th>\n",
       "      <th>High</th>\n",
       "      <th>Low</th>\n",
       "      <th>Close</th>\n",
       "      <th>Volume</th>\n",
       "    </tr>\n",
       "  </thead>\n",
       "  <tbody>\n",
       "    <tr>\n",
       "      <th>0</th>\n",
       "      <td>2020-03-13 08-PM</td>\n",
       "      <td>ETHUSD</td>\n",
       "      <td>129.94</td>\n",
       "      <td>131.82</td>\n",
       "      <td>126.87</td>\n",
       "      <td>128.71</td>\n",
       "      <td>1940673.93</td>\n",
       "    </tr>\n",
       "    <tr>\n",
       "      <th>1</th>\n",
       "      <td>2020-03-13 07-PM</td>\n",
       "      <td>ETHUSD</td>\n",
       "      <td>119.51</td>\n",
       "      <td>132.02</td>\n",
       "      <td>117.10</td>\n",
       "      <td>129.94</td>\n",
       "      <td>7579741.09</td>\n",
       "    </tr>\n",
       "    <tr>\n",
       "      <th>2</th>\n",
       "      <td>2020-03-13 06-PM</td>\n",
       "      <td>ETHUSD</td>\n",
       "      <td>124.47</td>\n",
       "      <td>124.85</td>\n",
       "      <td>115.50</td>\n",
       "      <td>119.51</td>\n",
       "      <td>4898735.81</td>\n",
       "    </tr>\n",
       "    <tr>\n",
       "      <th>3</th>\n",
       "      <td>2020-03-13 05-PM</td>\n",
       "      <td>ETHUSD</td>\n",
       "      <td>124.08</td>\n",
       "      <td>127.42</td>\n",
       "      <td>121.63</td>\n",
       "      <td>124.47</td>\n",
       "      <td>2753450.92</td>\n",
       "    </tr>\n",
       "    <tr>\n",
       "      <th>4</th>\n",
       "      <td>2020-03-13 04-PM</td>\n",
       "      <td>ETHUSD</td>\n",
       "      <td>124.85</td>\n",
       "      <td>129.51</td>\n",
       "      <td>120.17</td>\n",
       "      <td>124.08</td>\n",
       "      <td>4461424.71</td>\n",
       "    </tr>\n",
       "  </tbody>\n",
       "</table>\n",
       "</div>"
      ]
     },
     "execution_count": 4,
     "metadata": {},
     "output_type": "execute_result"
    }
   ],
   "execution_count": 4
  },
  {
   "metadata": {
    "ExecuteTime": {
     "end_time": "2024-04-23T14:00:13.142269Z",
     "start_time": "2024-04-23T14:00:13.138263Z"
    }
   },
   "cell_type": "code",
   "source": "df.shape",
   "id": "5033c1c8fdff8828",
   "outputs": [
    {
     "data": {
      "text/plain": [
       "(23674, 7)"
      ]
     },
     "execution_count": 5,
     "metadata": {},
     "output_type": "execute_result"
    }
   ],
   "execution_count": 5
  },
  {
   "metadata": {
    "ExecuteTime": {
     "end_time": "2024-04-23T14:01:40.696792Z",
     "start_time": "2024-04-23T14:01:40.315082Z"
    }
   },
   "cell_type": "code",
   "source": "df.loc[0,'Date'].day_name()",
   "id": "7da8f97456128250",
   "outputs": [
    {
     "ename": "AttributeError",
     "evalue": "'str' object has no attribute 'day_name'",
     "output_type": "error",
     "traceback": [
      "\u001B[1;31m---------------------------------------------------------------------------\u001B[0m",
      "\u001B[1;31mAttributeError\u001B[0m                            Traceback (most recent call last)",
      "Cell \u001B[1;32mIn[7], line 1\u001B[0m\n\u001B[1;32m----> 1\u001B[0m df\u001B[38;5;241m.\u001B[39mloc[\u001B[38;5;241m0\u001B[39m,\u001B[38;5;124m'\u001B[39m\u001B[38;5;124mDate\u001B[39m\u001B[38;5;124m'\u001B[39m]\u001B[38;5;241m.\u001B[39mday_name()\n",
      "\u001B[1;31mAttributeError\u001B[0m: 'str' object has no attribute 'day_name'"
     ]
    }
   ],
   "execution_count": 7
  },
  {
   "metadata": {
    "ExecuteTime": {
     "end_time": "2024-04-23T14:11:27.843207Z",
     "start_time": "2024-04-23T14:11:27.778033Z"
    }
   },
   "cell_type": "code",
   "source": "df['Date'] = pd.to_datetime(df['Date'],format='%Y-%m-%d %I-%p')",
   "id": "c4eef98a2060b52",
   "outputs": [],
   "execution_count": 11
  },
  {
   "metadata": {
    "ExecuteTime": {
     "end_time": "2024-04-23T14:11:39.638038Z",
     "start_time": "2024-04-23T14:11:39.633163Z"
    }
   },
   "cell_type": "code",
   "source": "df['Date']",
   "id": "fc43c50a68fb4a7f",
   "outputs": [
    {
     "data": {
      "text/plain": [
       "0       2020-03-13 20:00:00\n",
       "1       2020-03-13 19:00:00\n",
       "2       2020-03-13 18:00:00\n",
       "3       2020-03-13 17:00:00\n",
       "4       2020-03-13 16:00:00\n",
       "                ...        \n",
       "23669   2017-07-01 15:00:00\n",
       "23670   2017-07-01 14:00:00\n",
       "23671   2017-07-01 13:00:00\n",
       "23672   2017-07-01 12:00:00\n",
       "23673   2017-07-01 11:00:00\n",
       "Name: Date, Length: 23674, dtype: datetime64[ns]"
      ]
     },
     "execution_count": 12,
     "metadata": {},
     "output_type": "execute_result"
    }
   ],
   "execution_count": 12
  },
  {
   "metadata": {
    "ExecuteTime": {
     "end_time": "2024-04-23T14:12:15.837884Z",
     "start_time": "2024-04-23T14:12:15.824989Z"
    }
   },
   "cell_type": "code",
   "source": "df.loc[0,'Date'].day_name()",
   "id": "f2d9e766104a8a02",
   "outputs": [
    {
     "data": {
      "text/plain": [
       "'Friday'"
      ]
     },
     "execution_count": 13,
     "metadata": {},
     "output_type": "execute_result"
    }
   ],
   "execution_count": 13
  },
  {
   "metadata": {},
   "cell_type": "code",
   "outputs": [],
   "execution_count": null,
   "source": "",
   "id": "b51ce989ea2dadaf"
  }
 ],
 "metadata": {
  "kernelspec": {
   "display_name": "Python 3",
   "language": "python",
   "name": "python3"
  },
  "language_info": {
   "codemirror_mode": {
    "name": "ipython",
    "version": 2
   },
   "file_extension": ".py",
   "mimetype": "text/x-python",
   "name": "python",
   "nbconvert_exporter": "python",
   "pygments_lexer": "ipython2",
   "version": "2.7.6"
  }
 },
 "nbformat": 4,
 "nbformat_minor": 5
}
